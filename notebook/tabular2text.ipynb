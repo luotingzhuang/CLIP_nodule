{
 "cells": [
  {
   "cell_type": "code",
   "execution_count": 1,
   "id": "88dcb927",
   "metadata": {},
   "outputs": [
    {
     "name": "stdout",
     "output_type": "stream",
     "text": [
      "\u001b[31mERROR: pip's dependency resolver does not currently take into account all the packages that are installed. This behaviour is the source of the following dependency conflicts.\n",
      "cudf 23.4.0 requires protobuf==3.20.3, but you have protobuf 5.29.5 which is incompatible.\n",
      "onnx 1.13.1rc2 requires protobuf<4,>=3.20.2, but you have protobuf 5.29.5 which is incompatible.\n",
      "wandb 0.16.6 requires protobuf!=4.21.0,<5,>=3.19.0; python_version > \"3.9\" and sys_platform == \"linux\", but you have protobuf 5.29.5 which is incompatible.\u001b[0m\u001b[31m\n",
      "\u001b[0m\n",
      "\u001b[1m[\u001b[0m\u001b[34;49mnotice\u001b[0m\u001b[1;39;49m]\u001b[0m\u001b[39;49m A new release of pip is available: \u001b[0m\u001b[31;49m23.3.2\u001b[0m\u001b[39;49m -> \u001b[0m\u001b[32;49m25.2\u001b[0m\n",
      "\u001b[1m[\u001b[0m\u001b[34;49mnotice\u001b[0m\u001b[1;39;49m]\u001b[0m\u001b[39;49m To update, run: \u001b[0m\u001b[32;49mpython -m pip install --upgrade pip\u001b[0m\n"
     ]
    }
   ],
   "source": [
    "!pip install -q -U google-generativeai"
   ]
  },
  {
   "cell_type": "code",
   "execution_count": 57,
   "id": "e335f13e",
   "metadata": {},
   "outputs": [],
   "source": [
    "import pandas as pd\n",
    "import google.generativeai as genai\n",
    "import os"
   ]
  },
  {
   "cell_type": "code",
   "execution_count": 47,
   "id": "e222e19e",
   "metadata": {},
   "outputs": [],
   "source": [
    "def generate_report(feature_dict):\n",
    "\n",
    "    text = prompt.format(feature_dict)\n",
    "    response = model.generate_content(text)\n",
    "    return response"
   ]
  },
  {
   "cell_type": "code",
   "execution_count": 48,
   "id": "2ecb3828",
   "metadata": {},
   "outputs": [],
   "source": [
    "#input your gemini api key \n",
    "api_key = ''"
   ]
  },
  {
   "cell_type": "code",
   "execution_count": 49,
   "id": "e916ddd5",
   "metadata": {},
   "outputs": [
    {
     "name": "stdout",
     "output_type": "stream",
     "text": [
      "Think as if you are a radiologist, you have a table/dictionary for lung nodule evaluation, and you want to transform it into radiology reports. Here is the dictionary {}. Just show me the report. Do not add any additional information. In English! You should have an impression and findings part. Findings are bullet points listing each of the features separately. These features should be in random order. Combine nodule margins and additional nodule margins. If there is a missing value, just ignore it. For impression, do a quick summary of the findings in sentence and then state the suspiciousness of lung cancer. You can mention the absences in the findings but do not mention those in the impression.\n"
     ]
    }
   ],
   "source": [
    "prompt = 'Think as if you are a radiologist, you have a table/dictionary for lung nodule evaluation, and you want to transform it into radiology reports. Here is the dictionary {}. Just show me the report. Do not add any additional information. In English! You should have an impression and findings part. Findings are bullet points listing each of the features separately. These features should be in random order. Combine nodule margins and additional nodule margins. If there is a missing value, just ignore it. For impression, do a quick summary of the findings in sentence and then state the suspiciousness of lung cancer. You can mention the absences in the findings but do not mention those in the impression.'\n",
    "print(prompt)"
   ]
  },
  {
   "cell_type": "code",
   "execution_count": 50,
   "id": "a040fec0",
   "metadata": {},
   "outputs": [],
   "source": [
    "genai.configure(api_key = api_key)\n",
    "model = genai.GenerativeModel('gemini-1.5-flash')"
   ]
  },
  {
   "cell_type": "code",
   "execution_count": 51,
   "id": "b93e71cb",
   "metadata": {},
   "outputs": [],
   "source": [
    "df = pd.read_csv('../dataset_csv/sample_csv_with_semantic_feats.csv')\n",
    "cols = ['longest_axial_diameter_(mm)', 'short_diameter_(mm)', 'mean_diameter','psn_longest_diameter_solid_component',\n",
    "'nodule_margin_conspicuity','nodule_margins', 'additional_nodule_margins', 'nodule_shape', 'nodule_consistency',\n",
    "    'nodule_reticulation', 'cyst-like_spaces','intra-nodular_bronchiectasis', 'necrosis', 'cavitation',\n",
    "   'eccentric_calcification', 'airway_cut-off', 'pleural_attachment','pleural_retraction', 'vascular_convergence', 'septal_stretching',\n",
    "   'paracicatricial_emphysema','level_of_suspicion_of_lung_cancer']"
   ]
  },
  {
   "cell_type": "code",
   "execution_count": 58,
   "id": "557c3f85",
   "metadata": {},
   "outputs": [],
   "source": [
    "save_dir = '../report_generation'\n",
    "for i in range(len(df)):\n",
    "    save_name = str(df.iloc[i].pid)+'_'+str(df.iloc[i].nodule_id)+'.txt'\n",
    "    save_path = os.path.join(save_dir, save_name)\n",
    "    feature_dict = df[cols].iloc[0].to_dict()\n",
    "    report = generate_report(feature_dict)\n",
    "    report = report.text.replace('#','').replace('*','').replace('-',' ').replace('/',', ')\n",
    "    with open(save_path, \"w\") as file:\n",
    "        file.write(report)"
   ]
  },
  {
   "cell_type": "code",
   "execution_count": null,
   "id": "41495c19",
   "metadata": {},
   "outputs": [],
   "source": []
  }
 ],
 "metadata": {
  "kernelspec": {
   "display_name": "Python 3 (ipykernel)",
   "language": "python",
   "name": "python3"
  },
  "language_info": {
   "codemirror_mode": {
    "name": "ipython",
    "version": 3
   },
   "file_extension": ".py",
   "mimetype": "text/x-python",
   "name": "python",
   "nbconvert_exporter": "python",
   "pygments_lexer": "ipython3",
   "version": "3.10.6"
  }
 },
 "nbformat": 4,
 "nbformat_minor": 5
}
