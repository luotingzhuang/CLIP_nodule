{
 "cells": [
  {
   "cell_type": "code",
   "execution_count": 12,
   "id": "5b19deff",
   "metadata": {},
   "outputs": [],
   "source": [
    "from sklearn.model_selection import StratifiedShuffleSplit\n",
    "import pandas as pd\n",
    "import os"
   ]
  },
  {
   "cell_type": "code",
   "execution_count": 13,
   "id": "f703d9ff",
   "metadata": {},
   "outputs": [],
   "source": [
    "df = pd.read_csv('../dataset_csv/sample_csv_with_semantic_feats.csv')\n",
    "df = df.drop_duplicates('pid').reset_index()\n",
    "save_path = '../splits'"
   ]
  },
  {
   "cell_type": "code",
   "execution_count": 16,
   "id": "8b1cd72e",
   "metadata": {},
   "outputs": [
    {
     "name": "stdout",
     "output_type": "stream",
     "text": [
      "Fold 1: Train = 6, Val = 4\n",
      "Fold 2: Train = 6, Val = 4\n",
      "Fold 3: Train = 6, Val = 4\n",
      "Fold 4: Train = 6, Val = 4\n",
      "Fold 5: Train = 6, Val = 4\n"
     ]
    }
   ],
   "source": [
    "sss = StratifiedShuffleSplit(n_splits=5, train_size=0.6, test_size=0.4, random_state=42)\n",
    "X = df.pid.values\n",
    "y = df.malignant.values\n",
    "for fold, (train_idx, val_idx) in enumerate(sss.split(X, y)):\n",
    "    fold_save_path = os.path.join(save_path, f'fold_{fold}')\n",
    "    os.makedirs(fold_save_path)\n",
    "    print(f\"Fold {fold+1}: Train = {len(train_idx)}, Val = {len(val_idx)}\")\n",
    "\n",
    "    X_train, X_val = X[train_idx], X[val_idx]    \n",
    "    X_train = pd.DataFrame({'pid':X_train})\n",
    "    X_val = pd.DataFrame({'pid':X_val})\n",
    "    X_train.to_csv(os.path.join(fold_save_path,'train_pid.csv'))\n",
    "    X_val.to_csv(os.path.join(fold_save_path,'val_pid.csv'))\n"
   ]
  }
 ],
 "metadata": {
  "kernelspec": {
   "display_name": "Python 3 (ipykernel)",
   "language": "python",
   "name": "python3"
  },
  "language_info": {
   "codemirror_mode": {
    "name": "ipython",
    "version": 3
   },
   "file_extension": ".py",
   "mimetype": "text/x-python",
   "name": "python",
   "nbconvert_exporter": "python",
   "pygments_lexer": "ipython3",
   "version": "3.10.6"
  }
 },
 "nbformat": 4,
 "nbformat_minor": 5
}
